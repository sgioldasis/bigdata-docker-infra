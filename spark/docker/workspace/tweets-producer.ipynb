{
 "cells": [
  {
   "cell_type": "markdown",
   "id": "e1e00add-f7e0-4e5b-8b52-b201254dfb13",
   "metadata": {
    "tags": []
   },
   "source": [
    "# Tweets producer\n",
    "\n",
    "We will see how to use Spark Structured Streaming with Kafka using a hashtags count example. \n",
    "\n",
    "First we need to install some libraries"
   ]
  },
  {
   "cell_type": "code",
   "execution_count": null,
   "id": "7e5e2ac9-1073-49b4-b546-b152b70d9de9",
   "metadata": {
    "tags": []
   },
   "outputs": [],
   "source": [
    "# !pip3 install requests_oauthlib\n",
    "!pip3 install kafka_python\n",
    "!pip3 install tweepy"
   ]
  },
  {
   "cell_type": "markdown",
   "id": "1be16027-3149-4e60-903d-ebe9ca6e3829",
   "metadata": {},
   "source": [
    "-----\n",
    "\n",
    "Now we can run the Kafka producer which is retrieving Tweets from user `@sgioldasis` and sends them to Kafka topic `tweets`"
   ]
  },
  {
   "cell_type": "code",
   "execution_count": null,
   "id": "63821215-d063-4d1d-bc5e-b7d3f69ed895",
   "metadata": {},
   "outputs": [],
   "source": [
    "import tweepy\n",
    "import time\n",
    "from kafka import KafkaProducer\n",
    "from dateutil.parser import parse\n",
    "import pytz\n",
    "\n",
    "# Define our Twitter credentials\n",
    "consumer_key='XFp79e9YHmllBxNNfmjbnEkPo'\n",
    "consumer_secret='CFj6I7ejb7hYLtrj8lfUBYfxvy3OcJBx7hRDXqxKE41r0iT3md'\n",
    "access_token='11824232-RlSh3OA7vEuDqm2u3cF4ZRPdlSl72IlE0VnnJRc4O'\n",
    "access_token_secret='NxYfQx34vK2XUD6eZm4d1LVPylWEC0zvSZ9u9lVqMTf2J'\n",
    "    \n",
    "# Authorize our Twitter credentials\n",
    "auth = tweepy.OAuthHandler(consumer_key, consumer_secret)\n",
    "auth.set_access_token(access_token, access_token_secret)\n",
    "api = tweepy.API(auth)\n",
    "\n",
    "# Initialize variables\n",
    "topic = \"savas\"\n",
    "userID = \"@sgioldasis\"\n",
    "last_processed_ts = parse('2021-11-16 07:33:00+02:00')\n",
    "producer = KafkaProducer(bootstrap_servers='broker:29092')\n",
    "athens = pytz.timezone('Europe/Athens')\n",
    "\n",
    "# Loop\n",
    "while True:\n",
    "\n",
    "    # Get from Twitter API\n",
    "    tweets = api.user_timeline(screen_name=userID, \n",
    "                           # 200 is the maximum allowed count\n",
    "                           count=1,\n",
    "                           include_rts = False,\n",
    "                           # Necessary to keep full_text \n",
    "                           # otherwise only the first 140 words are extracted\n",
    "                           tweet_mode = 'extended'\n",
    "                           )\n",
    "    \n",
    "    # Get last Tweet info\n",
    "    info = tweets[:1][0]\n",
    "    \n",
    "    # Process last Tweet\n",
    "    if info.created_at > last_processed_ts:\n",
    "        \n",
    "        # Print Tweet (we can also print info.id)\n",
    "        print(f\"{info.created_at.astimezone(athens)} {info.full_text}\")\n",
    "        \n",
    "        # Send Tweet text to Kafka\n",
    "        producer.send(topic, info.full_text.encode('utf-8'))\n",
    "        \n",
    "        # Update last processed timestamp\n",
    "        last_processed_ts = info.created_at\n",
    "            \n",
    "        \n",
    "    # Sleep for a while\n",
    "    time.sleep(10)\n",
    "        \n"
   ]
  },
  {
   "cell_type": "code",
   "execution_count": null,
   "id": "d8cee11c-e9cf-411a-b7b4-612ecee3901c",
   "metadata": {},
   "outputs": [],
   "source": []
  }
 ],
 "metadata": {
  "kernelspec": {
   "display_name": "Python 3 (ipykernel)",
   "language": "python",
   "name": "python3"
  },
  "language_info": {
   "codemirror_mode": {
    "name": "ipython",
    "version": 3
   },
   "file_extension": ".py",
   "mimetype": "text/x-python",
   "name": "python",
   "nbconvert_exporter": "python",
   "pygments_lexer": "ipython3",
   "version": "3.7.3"
  }
 },
 "nbformat": 4,
 "nbformat_minor": 5
}
